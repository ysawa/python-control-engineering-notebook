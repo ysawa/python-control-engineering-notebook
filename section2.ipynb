{
 "cells": [
  {
   "cell_type": "code",
   "execution_count": 11,
   "metadata": {
    "collapsed": true,
    "pycharm": {
     "name": "#%% Hello, world!\n",
     "is_executing": false
    }
   },
   "outputs": [
    {
     "name": "stdout",
     "text": [
      "Hello, world!\n"
     ],
     "output_type": "stream"
    }
   ],
   "source": [
    "print('Hello, world!')\n"
   ]
  },
  {
   "cell_type": "markdown",
   "source": [
    "## 数式\n",
    "$$y = \\int^t_0 f(\\tau)\\rm{d}\\tau$$\n",
    "\n",
    "このように数式が書かれます。\n"
   ],
   "metadata": {
    "collapsed": false
   }
  },
  {
   "cell_type": "code",
   "execution_count": 12,
   "outputs": [
    {
     "name": "stdout",
     "text": [
      "Help on built-in function print in module builtins:\n\nprint(...)\n    print(value, ..., sep=' ', end='\\n', file=sys.stdout, flush=False)\n    \n    Prints the values to a stream, or to sys.stdout by default.\n    Optional keyword arguments:\n    file:  a file-like object (stream); defaults to the current sys.stdout.\n    sep:   string inserted between values, default a space.\n    end:   string appended after the last value, default a newline.\n    flush: whether to forcibly flush the stream.\n\n"
     ],
     "output_type": "stream"
    }
   ],
   "source": [
    "help(print)\n"
   ],
   "metadata": {
    "collapsed": false,
    "pycharm": {
     "name": "#%% Help\n",
     "is_executing": false
    }
   }
  },
  {
   "cell_type": "code",
   "execution_count": 13,
   "outputs": [],
   "source": [
    "print?\n"
   ],
   "metadata": {
    "collapsed": false,
    "pycharm": {
     "name": "#%% print?\n",
     "is_executing": false
    }
   }
  },
  {
   "cell_type": "code",
   "execution_count": 14,
   "outputs": [
    {
     "name": "stdout",
     "text": [
      "1\n"
     ],
     "output_type": "stream"
    }
   ],
   "source": [
    "# コメントです\n",
    "print(1)\n"
   ],
   "metadata": {
    "collapsed": false,
    "pycharm": {
     "name": "#%% section2.3\n",
     "is_executing": false
    }
   }
  },
  {
   "cell_type": "code",
   "execution_count": 18,
   "outputs": [
    {
     "name": "stdout",
     "text": [
      "1\n"
     ],
     "output_type": "stream"
    },
    {
     "data": {
      "text/plain": "1"
     },
     "metadata": {},
     "output_type": "execute_result",
     "execution_count": 18
    }
   ],
   "source": [
    "'''\n",
    "コメント1\n",
    "コメント2\n",
    "'''\n",
    "\n",
    "x = 1\n",
    "\n",
    "print(x)\n",
    "\n",
    "x"
   ],
   "metadata": {
    "collapsed": false,
    "pycharm": {
     "name": "#%% コメント\n",
     "is_executing": false
    }
   }
  },
  {
   "cell_type": "code",
   "execution_count": 20,
   "outputs": [
    {
     "name": "stdout",
     "text": [
      "<class 'int'>\n"
     ],
     "output_type": "stream"
    }
   ],
   "source": [
    "print(type(x))\n"
   ],
   "metadata": {
    "collapsed": false,
    "pycharm": {
     "name": "#%% print type\n",
     "is_executing": false
    }
   }
  },
  {
   "cell_type": "code",
   "execution_count": 21,
   "outputs": [],
   "source": [
    "y = 1.0\n",
    "msg = 'Control'\n",
    "ok = True\n"
   ],
   "metadata": {
    "collapsed": false,
    "pycharm": {
     "name": "#%%\n",
     "is_executing": false
    }
   }
  },
  {
   "cell_type": "code",
   "execution_count": 23,
   "outputs": [],
   "source": [
    "z = int(y)\n",
    "word = str(x)\n"
   ],
   "metadata": {
    "collapsed": false,
    "pycharm": {
     "name": "#%%\n",
     "is_executing": false
    }
   }
  },
  {
   "cell_type": "code",
   "execution_count": 25,
   "outputs": [],
   "source": [
    "data1 = [3, 5, 2, 4, 6, 1]"
   ],
   "metadata": {
    "collapsed": false,
    "pycharm": {
     "name": "#%%\n",
     "is_executing": false
    }
   }
  },
  {
   "cell_type": "code",
   "execution_count": 28,
   "outputs": [],
   "source": [
    "data2 = [[3, 5, 2], [4, 6, 2]]\n"
   ],
   "metadata": {
    "collapsed": false,
    "pycharm": {
     "name": "#%%\n",
     "is_executing": false
    }
   }
  },
  {
   "cell_type": "code",
   "execution_count": 30,
   "outputs": [
    {
     "data": {
      "text/plain": "[3, 5]"
     },
     "metadata": {},
     "output_type": "execute_result",
     "execution_count": 30
    }
   ],
   "source": [
    "data1[0:2]"
   ],
   "metadata": {
    "collapsed": false,
    "pycharm": {
     "name": "#%%\n",
     "is_executing": false
    }
   }
  },
  {
   "cell_type": "code",
   "execution_count": 33,
   "outputs": [
    {
     "data": {
      "text/plain": "[2, 4]"
     },
     "metadata": {},
     "output_type": "execute_result",
     "execution_count": 33
    }
   ],
   "source": [
    "data1[2:4]\n"
   ],
   "metadata": {
    "collapsed": false,
    "pycharm": {
     "name": "#%%\n",
     "is_executing": false
    }
   }
  },
  {
   "cell_type": "code",
   "execution_count": 35,
   "outputs": [
    {
     "name": "stdout",
     "text": [
      "[3, 5, 2, 4, 6, 1, 8, 8]\n"
     ],
     "output_type": "stream"
    }
   ],
   "source": [
    "data1.append(8)\n",
    "print(data1)"
   ],
   "metadata": {
    "collapsed": false,
    "pycharm": {
     "name": "#%%\n",
     "is_executing": false
    }
   }
  },
  {
   "cell_type": "code",
   "execution_count": 36,
   "outputs": [
    {
     "name": "stdout",
     "text": [
      "[8, 3, 5, 2, 4, 6, 1, 8, 8]\n"
     ],
     "output_type": "stream"
    }
   ],
   "source": [
    "data1.insert(0, 8)\n",
    "print(data1)"
   ],
   "metadata": {
    "collapsed": false,
    "pycharm": {
     "name": "#%%\n",
     "is_executing": false
    }
   }
  },
  {
   "cell_type": "code",
   "execution_count": 37,
   "outputs": [],
   "source": [
    "del data1[0]"
   ],
   "metadata": {
    "collapsed": false,
    "pycharm": {
     "name": "#%%\n",
     "is_executing": false
    }
   }
  },
  {
   "cell_type": "code",
   "execution_count": 38,
   "outputs": [
    {
     "data": {
      "text/plain": "3"
     },
     "metadata": {},
     "output_type": "execute_result",
     "execution_count": 38
    }
   ],
   "source": [
    "data1.pop(0)\n"
   ],
   "metadata": {
    "collapsed": false,
    "pycharm": {
     "name": "#%%\n",
     "is_executing": false
    }
   }
  },
  {
   "cell_type": "code",
   "execution_count": 39,
   "outputs": [
    {
     "name": "stdout",
     "text": [
      "[10, 2, 3]\n[10, 2, 3]\n"
     ],
     "output_type": "stream"
    }
   ],
   "source": [
    "x = [1, 2, 3]\n",
    "y = x\n",
    "y[0] = 10\n",
    "print(x)\n",
    "print(y)"
   ],
   "metadata": {
    "collapsed": false,
    "pycharm": {
     "name": "#%%\n",
     "is_executing": false
    }
   }
  },
  {
   "cell_type": "code",
   "execution_count": 40,
   "outputs": [
    {
     "name": "stdout",
     "text": [
      "[1, 2, 3]\n[10, 2, 3]\n"
     ],
     "output_type": "stream"
    }
   ],
   "source": [
    "\n",
    "x = [1, 2, 3]\n",
    "y = x.copy()\n",
    "y[0] = 10\n",
    "print(x)\n",
    "print(y)"
   ],
   "metadata": {
    "collapsed": false,
    "pycharm": {
     "name": "#%%\n",
     "is_executing": false
    }
   }
  },
  {
   "cell_type": "code",
   "execution_count": 41,
   "outputs": [
    {
     "data": {
      "text/plain": "tuple"
     },
     "metadata": {},
     "output_type": "execute_result",
     "execution_count": 41
    }
   ],
   "source": [
    "tuple = (1, 2, 3, 4)\n",
    "type(tuple)\n"
   ],
   "metadata": {
    "collapsed": false,
    "pycharm": {
     "name": "#%% tuple\n",
     "is_executing": false
    }
   }
  },
  {
   "cell_type": "code",
   "execution_count": 42,
   "outputs": [
    {
     "name": "stdout",
     "text": [
      "{'linestyle': '-.', 'color': 'k'}\n-.\nk\n"
     ],
     "output_type": "stream"
    }
   ],
   "source": [
    "d = {'linestyle': '-.', 'color': 'k'}\n",
    "print(d)\n",
    "print(d['linestyle'])\n",
    "print(d['color'])"
   ],
   "metadata": {
    "collapsed": false,
    "pycharm": {
     "name": "#%%\n",
     "is_executing": false
    }
   }
  },
  {
   "cell_type": "code",
   "execution_count": 43,
   "outputs": [
    {
     "name": "stdout",
     "text": [
      "{'linestyle': '--', 'color': 'k', 'label': 'plt'}\n"
     ],
     "output_type": "stream"
    }
   ],
   "source": [
    "x = {'linestyle': '--', 'label': 'plt'}\n",
    "d.update(x)\n",
    "print(d)\n"
   ],
   "metadata": {
    "collapsed": false,
    "pycharm": {
     "name": "#%%\n",
     "is_executing": false
    }
   }
  },
  {
   "cell_type": "code",
   "execution_count": 44,
   "outputs": [
    {
     "name": "stdout",
     "text": [
      "x is zero\n"
     ],
     "output_type": "stream"
    }
   ],
   "source": [
    "x = 0\n",
    "if x < 0:\n",
    "    print('x is negative')\n",
    "elif x == 0:\n",
    "    print('x is zero')\n",
    "else:\n",
    "    print('x is positive')\n"
   ],
   "metadata": {
    "collapsed": false,
    "pycharm": {
     "name": "#%% if\n",
     "is_executing": false
    }
   }
  },
  {
   "cell_type": "code",
   "execution_count": 45,
   "outputs": [
    {
     "name": "stdout",
     "text": [
      "x and y are negative\n"
     ],
     "output_type": "stream"
    }
   ],
   "source": [
    "x = -1; y = -2\n",
    "if x < 0 and y < 0:\n",
    "    print('x and y are negative')\n"
   ],
   "metadata": {
    "collapsed": false,
    "pycharm": {
     "name": "#%%\n",
     "is_executing": false
    }
   }
  },
  {
   "cell_type": "code",
   "execution_count": 46,
   "outputs": [
    {
     "name": "stdout",
     "text": [
      "35.70714214271425\n35.70714214271425\n35.70714214271425\n"
     ],
     "output_type": "stream"
    }
   ],
   "source": [
    "from numpy import sqrt\n",
    "s = 0\n",
    "for x in range(1, 51):\n",
    "    s += x\n",
    "print(sqrt(s))\n",
    "\n",
    "s = sum(range(1, 51))\n",
    "print(sqrt(s))\n",
    "\n",
    "s = sum(x for x in range(1, 51))\n",
    "print(sqrt(s))"
   ],
   "metadata": {
    "collapsed": false,
    "pycharm": {
     "name": "#%% numpy\n",
     "is_executing": false
    }
   }
  },
  {
   "cell_type": "code",
   "execution_count": 1,
   "outputs": [],
   "source": [
    "import numpy as np"
   ],
   "metadata": {
    "collapsed": false,
    "pycharm": {
     "name": "#%%\n",
     "is_executing": false
    }
   }
  },
  {
   "cell_type": "code",
   "execution_count": 2,
   "outputs": [
    {
     "name": "stdout",
     "text": [
      "[[ 1  2]\n [-3  4]]\n"
     ],
     "output_type": "stream"
    }
   ],
   "source": [
    "A = np.array([[1, 2], [-3, 4]])\n",
    "print(A)\n"
   ],
   "metadata": {
    "collapsed": false,
    "pycharm": {
     "name": "#%%\n",
     "is_executing": false
    }
   }
  },
  {
   "cell_type": "code",
   "execution_count": 3,
   "outputs": [
    {
     "name": "stdout",
     "text": [
      "[[ 1 -3]\n [ 2  4]]\n"
     ],
     "output_type": "stream"
    }
   ],
   "source": [
    "print(A.T)"
   ],
   "metadata": {
    "collapsed": false,
    "pycharm": {
     "name": "#%% 転置\n",
     "is_executing": false
    }
   }
  },
  {
   "cell_type": "code",
   "execution_count": 4,
   "outputs": [
    {
     "name": "stdout",
     "text": [
      "[[ 0.4 -0.2]\n [ 0.3  0.1]]\n"
     ],
     "output_type": "stream"
    }
   ],
   "source": [
    "B = np.linalg.inv(A)\n",
    "print(B)\n"
   ],
   "metadata": {
    "collapsed": false,
    "pycharm": {
     "name": "#%% 逆行列\n",
     "is_executing": false
    }
   }
  },
  {
   "cell_type": "code",
   "execution_count": 5,
   "outputs": [
    {
     "data": {
      "text/plain": "10.000000000000002"
     },
     "metadata": {},
     "output_type": "execute_result",
     "execution_count": 5
    }
   ],
   "source": [
    "np.linalg.det(A)"
   ],
   "metadata": {
    "collapsed": false,
    "pycharm": {
     "name": "#%%\n",
     "is_executing": false
    }
   }
  },
  {
   "cell_type": "code",
   "execution_count": 6,
   "outputs": [
    {
     "data": {
      "text/plain": "2"
     },
     "metadata": {},
     "output_type": "execute_result",
     "execution_count": 6
    }
   ],
   "source": [
    "np.linalg.matrix_rank(A)"
   ],
   "metadata": {
    "collapsed": false,
    "pycharm": {
     "name": "#%%\n",
     "is_executing": false
    }
   }
  },
  {
   "cell_type": "code",
   "execution_count": 7,
   "outputs": [
    {
     "name": "stdout",
     "text": [
      "eigenvalue= [2.5+1.93649167j 2.5-1.93649167j]\neigenvector=\n [[0.38729833-0.5j 0.38729833+0.5j]\n [0.77459667+0.j  0.77459667-0.j ]]\n"
     ],
     "output_type": "stream"
    }
   ],
   "source": [
    "w, v = np.linalg.eig(A)\n",
    "print('eigenvalue=', w)\n",
    "print('eigenvector=\\n', v)"
   ],
   "metadata": {
    "collapsed": false,
    "pycharm": {
     "name": "#%%\n",
     "is_executing": false
    }
   }
  },
  {
   "cell_type": "code",
   "execution_count": 8,
   "outputs": [
    {
     "name": "stdout",
     "text": [
      "[1 2]\n"
     ],
     "output_type": "stream"
    },
    {
     "data": {
      "text/plain": "2.23606797749979"
     },
     "metadata": {},
     "output_type": "execute_result",
     "execution_count": 8
    }
   ],
   "source": [
    "x = np.array([1, 2])\n",
    "print(x)\n",
    "np.linalg.norm(x)"
   ],
   "metadata": {
    "collapsed": false,
    "pycharm": {
     "name": "#%%\n",
     "is_executing": false
    }
   }
  },
  {
   "cell_type": "code",
   "execution_count": 10,
   "outputs": [
    {
     "name": "stdout",
     "text": [
      "[0 1 2 3 4 5 6 7 8 9]\n"
     ],
     "output_type": "stream"
    }
   ],
   "source": [
    "Td = np.arange(0, 10, 1)\n",
    "print(Td)"
   ],
   "metadata": {
    "collapsed": false,
    "pycharm": {
     "name": "#%%\n",
     "is_executing": false
    }
   }
  },
  {
   "cell_type": "code",
   "execution_count": null,
   "outputs": [],
   "source": [
    "\n"
   ],
   "metadata": {
    "collapsed": false,
    "pycharm": {
     "name": "#%%\n"
    }
   }
  }
 ],
 "metadata": {
  "language_info": {
   "codemirror_mode": {
    "name": "ipython",
    "version": 2
   },
   "file_extension": ".py",
   "mimetype": "text/x-python",
   "name": "python",
   "nbconvert_exporter": "python",
   "pygments_lexer": "ipython2",
   "version": "2.7.6"
  },
  "kernelspec": {
   "name": "python3",
   "language": "python",
   "display_name": "Python 3"
  },
  "pycharm": {
   "stem_cell": {
    "cell_type": "raw",
    "source": [],
    "metadata": {
     "collapsed": false
    }
   }
  }
 },
 "nbformat": 4,
 "nbformat_minor": 0
}